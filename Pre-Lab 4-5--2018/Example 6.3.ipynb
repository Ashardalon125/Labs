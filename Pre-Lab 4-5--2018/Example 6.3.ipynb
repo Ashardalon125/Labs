{
 "cells": [
  {
   "cell_type": "code",
   "execution_count": null,
   "metadata": {},
   "outputs": [],
   "source": [
    "from math import tanh, cosh\n",
    "import numpy as np\n",
    "import pylab as plt\n",
    "\n",
    "# Constants\n",
    "Tmax = 1.0 #Sets maximum temperature. Adjust as needed\n",
    "points = 1000 #Sets number of points. Larger numbers will yield more accurate models, but take longer\n",
    "accuracy = 1e-6 #Sets target accuracy. Smaller numbers will yield more accurate models, but take longer\n",
    "\n",
    "# List definition\n",
    "y = [] #Holds y-values\n",
    "temp = np.linspace(0.01,Tmax,points)\n",
    "\n",
    "#Temperature Loop\n",
    "for T in temp:\n",
    "    m1 = 1.0\n",
    "    error = 1.0\n",
    "    \n",
    "    #Loop until under accuracy\n",
    "    while (error>accuracy):\n",
    "        m1,m2 = tanh(m1/T),m1\n",
    "        error = np.abs((m1-m2)/(1-T*cosh(m2/T)**2))\n",
    "    y.append(m1)\n",
    "\n",
    "#Plot graph\n",
    "plt.plot(temp,y)\n",
    "plt.ylim(-0.1,1.1)\n",
    "plt.xlabel(\"Temperature\")\n",
    "plt.ylabel(\"Magnetization\")\n",
    "plt.show()"
   ]
  },
  {
   "cell_type": "code",
   "execution_count": null,
   "metadata": {
    "collapsed": true
   },
   "outputs": [],
   "source": []
  }
 ],
 "metadata": {
  "kernelspec": {
   "display_name": "Python 3",
   "language": "python",
   "name": "python3"
  },
  "language_info": {
   "codemirror_mode": {
    "name": "ipython",
    "version": 3
   },
   "file_extension": ".py",
   "mimetype": "text/x-python",
   "name": "python",
   "nbconvert_exporter": "python",
   "pygments_lexer": "ipython3",
   "version": "3.6.3"
  }
 },
 "nbformat": 4,
 "nbformat_minor": 2
}
