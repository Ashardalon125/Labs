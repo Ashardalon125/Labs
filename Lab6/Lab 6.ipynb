{
 "cells": [
  {
   "cell_type": "markdown",
   "metadata": {},
   "source": [
    "# Newman 5.12 - The Stefan-Botzmann Constant"
   ]
  },
  {
   "cell_type": "markdown",
   "metadata": {},
   "source": [
    "If we equate any potential frequency to a spectrum from 0 to infinity (forbidding \"negative\" frequencies), then each frequency adds to the total amount of energy radiated off the black body per unit area. Additionally, because the denominator contains an exponential with a large number of constant exponents, those portions can be \"split\" off and moved outside of the frequency dependent portion.\n",
    "\n",
    "We also convert the limits with a change of variables to allow the computer to do the calculation."
   ]
  },
  {
   "cell_type": "code",
   "execution_count": 6,
   "metadata": {
    "collapsed": true
   },
   "outputs": [],
   "source": [
    "def gaussxw(N,a=None,b=None,verbose=False):\n",
    "    '''calculate integration points and weights for Gaussian quadrature\n",
    "\n",
    "    ARGUMENTS:\n",
    "    N - order of the Gaussian approximation \n",
    "    a - lower limit of integral, default a=None (limit = -1)\n",
    "    b - upper limit of integral, default b=None (limit =  1)\n",
    "    \n",
    "    RETURNS\n",
    "    x,w = integration points x and integration weights w such that \n",
    "          sum_i w[i]*f(x[i]) is the Nth-order\n",
    "          Gaussian approximation to the integral int_{-a}^b f(x) dx\n",
    "          \n",
    "    USAGE EXAMPLES:\n",
    "    def f1(x):\n",
    "        return x*(x-1)\n",
    "\n",
    "    N=2\n",
    "    a=0\n",
    "    b=1\n",
    "\n",
    "    #return the correct weights with a single call\n",
    "    xp,wp = gaussxw(N,a=a,b=b)\n",
    "    \n",
    "    #return the weights that may be scaled for different limits (a,b)\n",
    "    x,w = gaussxw(N)\n",
    "    xp = 0.5*(b-a)*x + 0.5*(b+a)\n",
    "    wp = 0.5*(b-a)*w\n",
    "    \n",
    "    '''\n",
    "    \n",
    "    if verbose==True:\n",
    "        print(\"The limits of the function are: \",a,b)\n",
    "        \n",
    "    # Initial approximation to roots of the Legendre polynomial\n",
    "    a1 = np.linspace(3,4*N-1,N)/(4*N+2)\n",
    "    x = np.cos(np.pi*a1+1/(8*N*N*np.tan(a1)))\n",
    "\n",
    "    # Find roots using Newton's method\n",
    "    epsilon = 1e-15\n",
    "    delta = 1.0\n",
    "    while delta>epsilon:\n",
    "        p0 = np.ones(N,float)\n",
    "        p1 = np.copy(x)\n",
    "        for k in range(1,N):\n",
    "            p0,p1 = p1,((2*k+1)*x*p1-k*p0)/(k+1)\n",
    "        dp = (N+1)*(p0-x*p1)/(1-x*x)\n",
    "        dx = p1/dp\n",
    "        x -= dx\n",
    "        delta = max(abs(dx))\n",
    "\n",
    "    # Calculate the weights\n",
    "    w = 2*(N+1)*(N+1)/(N*N*(1-x*x)*dp*dp)\n",
    "    \n",
    "    if a==None and b==None:\n",
    "        #generally if you are recalculating the same integral use this method\n",
    "        return x,w\n",
    "    else:\n",
    "        #if you are only doing a single integral, use this method.\n",
    "        return 0.5*(b-a)*x + 0.5*(b+a), 0.5*(b-a)*w"
   ]
  },
  {
   "cell_type": "code",
   "execution_count": 13,
   "metadata": {},
   "outputs": [
    {
     "name": "stdout",
     "output_type": "stream",
     "text": [
      "11.6102388387\n"
     ]
    }
   ],
   "source": [
    "import math\n",
    "import numpy as np\n",
    "\n",
    "#Function Definitions\n",
    "def f(x):\n",
    "    '''The converted integrand for the Stefan-Boltzmann constant calculation\n",
    "    x: the inputted frequency\n",
    "    \n",
    "    thermal: the amount of thermal energy radiated off'''\n",
    "    \n",
    "    thermal = ((x**4)*math.exp(x)) / ((math.exp(x)-1)**2)\n",
    "    return thermal\n",
    "\n",
    "# Constant and Variable Declaration\n",
    "k_b = 1.3806*10**(-23) #Botlzmann Constant\n",
    "h_bar = 1.055*10**(-34) #H-bar in J*s\n",
    "c = 3*10**8 #Speed of light\n",
    "T = 273 #Temperature in Kelvin (presumed)\n",
    "N = 500 #Number of points to be sampled\n",
    "a = ((5**0.5)-1)/2 #Start point of integral\n",
    "b = 1 #End point of integral\n",
    "\n",
    "#Calculations\n",
    "x,w = gaussxw(N)\n",
    "xp = 0.5*(b-a)*x + 0.5*(b+a)\n",
    "wp = 0.5*(b-a)*w\n",
    "\n",
    "s=0.0\n",
    "for k in range(N):\n",
    "    s += wp[k]*f(xp[k])\n",
    "    \n",
    "energy = s*(k_b**4)*(T**4)/(4*(math.pi**2)*(c**2)*(h_bar**3))\n",
    "print(energy)"
   ]
  },
  {
   "cell_type": "markdown",
   "metadata": {},
   "source": [
    "I modified the code from Newman 5.9 and adapted changed the internal integrand and outside multiplier. I am unsure of how accurate the answer is, given the semi-random value chosen for T (setting to approximately 0 degrees Celsius)."
   ]
  },
  {
   "cell_type": "markdown",
   "metadata": {},
   "source": [
    "# Newman 5.19 - Diffraction Gratings"
   ]
  },
  {
   "cell_type": "code",
   "execution_count": null,
   "metadata": {
    "collapsed": true
   },
   "outputs": [],
   "source": [
    "import math\n",
    "from scipy import integrate\n",
    "import numpy as np\n",
    "\n",
    "#Function definitions\n",
    "def integrand (a, w):\n",
    "    f = 1 #Focal length\n",
    "    x = 1 #Vertical distance from central axis\n",
    "    wavelength = 1 #Wavelength of light\n",
    "    u = (f**2 + x**2)**0.5\n",
    "    return (math.sin(a*x)**2)**0.5*math.exp((-1**0.5)*2*math.pi*x*u/(wavelength*f))\n",
    "\n",
    "#Variable and Constant Declaration\n",
    "w = 1 #Width of grating\n",
    "a = np,linspace (1,50)\n",
    "Intensity = []\n",
    "\n",
    "#Function Execution\n"
   ]
  }
 ],
 "metadata": {
  "kernelspec": {
   "display_name": "Python 3",
   "language": "python",
   "name": "python3"
  },
  "language_info": {
   "codemirror_mode": {
    "name": "ipython",
    "version": 3
   },
   "file_extension": ".py",
   "mimetype": "text/x-python",
   "name": "python",
   "nbconvert_exporter": "python",
   "pygments_lexer": "ipython3",
   "version": "3.6.3"
  }
 },
 "nbformat": 4,
 "nbformat_minor": 1
}
