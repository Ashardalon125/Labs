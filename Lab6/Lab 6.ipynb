{
 "cells": [
  {
   "cell_type": "markdown",
   "metadata": {},
   "source": [
    "# Newman 5.12 - The Stefan-Botzmann Constant"
   ]
  },
  {
   "cell_type": "markdown",
   "metadata": {},
   "source": [
    "If we equate any potential frequency to a spectrum from 0 to infinity (forbidding \"negative\" frequencies), then each frequency adds to the total amount of energy radiated off the black body per unit area. Additionally, because the denominator contains an exponential with a large number of constant exponents, those portions can be \"split\" off and moved outside of the frequency dependent portion.\n",
    "\n",
    "We also convert the limits with a change of variables to allow the computer to do the calculation."
   ]
  },
  {
   "cell_type": "code",
   "execution_count": 10,
   "metadata": {
    "collapsed": true
   },
   "outputs": [],
   "source": [
    "def gaussxw(N,a=None,b=None,verbose=False):\n",
    "    '''calculate integration points and weights for Gaussian quadrature\n",
    "\n",
    "    ARGUMENTS:\n",
    "    N - order of the Gaussian approximation \n",
    "    a - lower limit of integral, default a=None (limit = -1)\n",
    "    b - upper limit of integral, default b=None (limit =  1)\n",
    "    \n",
    "    RETURNS\n",
    "    x,w = integration points x and integration weights w such that \n",
    "          sum_i w[i]*f(x[i]) is the Nth-order\n",
    "          Gaussian approximation to the integral int_{-a}^b f(x) dx\n",
    "          \n",
    "    USAGE EXAMPLES:\n",
    "    def f1(x):\n",
    "        return x*(x-1)\n",
    "\n",
    "    N=2\n",
    "    a=0\n",
    "    b=1\n",
    "\n",
    "    #return the correct weights with a single call\n",
    "    xp,wp = gaussxw(N,a=a,b=b)\n",
    "    \n",
    "    #return the weights that may be scaled for different limits (a,b)\n",
    "    x,w = gaussxw(N)\n",
    "    xp = 0.5*(b-a)*x + 0.5*(b+a)\n",
    "    wp = 0.5*(b-a)*w\n",
    "    \n",
    "    '''\n",
    "    \n",
    "    if verbose==True:\n",
    "        print(\"The limits of the function are: \",a,b)\n",
    "        \n",
    "    # Initial approximation to roots of the Legendre polynomial\n",
    "    a1 = np.linspace(3,4*N-1,N)/(4*N+2)\n",
    "    x = np.cos(np.pi*a1+1/(8*N*N*np.tan(a1)))\n",
    "\n",
    "    # Find roots using Newton's method\n",
    "    epsilon = 1e-15\n",
    "    delta = 1.0\n",
    "    while delta>epsilon:\n",
    "        p0 = np.ones(N,float)\n",
    "        p1 = np.copy(x)\n",
    "        for k in range(1,N):\n",
    "            p0,p1 = p1,((2*k+1)*x*p1-k*p0)/(k+1)\n",
    "        dp = (N+1)*(p0-x*p1)/(1-x*x)\n",
    "        dx = p1/dp\n",
    "        x -= dx\n",
    "        delta = max(abs(dx))\n",
    "\n",
    "    # Calculate the weights\n",
    "    w = 2*(N+1)*(N+1)/(N*N*(1-x*x)*dp*dp)\n",
    "    \n",
    "    if a==None and b==None:\n",
    "        #generally if you are recalculating the same integral use this method\n",
    "        return x,w\n",
    "    else:\n",
    "        #if you are only doing a single integral, use this method.\n",
    "        return 0.5*(b-a)*x + 0.5*(b+a), 0.5*(b-a)*w"
   ]
  },
  {
   "cell_type": "code",
   "execution_count": 50,
   "metadata": {},
   "outputs": [
    {
     "name": "stdout",
     "output_type": "stream",
     "text": [
      "273 7.877148914\n",
      "5 8.86336195151e-07\n",
      "1000 1418.13791224\n"
     ]
    }
   ],
   "source": [
    "import math\n",
    "import numpy as np\n",
    "\n",
    "#Function Definitions\n",
    "def f(x):\n",
    "    '''The converted integrand for the Stefan-Boltzmann constant calculation\n",
    "    x: the inputted frequency\n",
    "    \n",
    "    thermal: the amount of thermal energy radiated off'''\n",
    "    \n",
    "    thermal = (x**3)/ (math.exp(x)-1)\n",
    "    return thermal\n",
    "\n",
    "def energy (T, s):\n",
    "    k_b = 1.3806*10**(-23) #Botlzmann Constant\n",
    "    h_bar = 1.055*10**(-34) #H-bar in J*s\n",
    "    c = 3*10**8 #Speed of light\n",
    "    \n",
    "    return s*(k_b**4)*(T**4)/(4*(math.pi**2)*(c**2)*(h_bar**3))\n",
    "\n",
    "# Constant and Variable Declaration\n",
    "T = 273 #Temperature in Kelvin (presumed)\n",
    "N = 500 #Number of points to be sampled\n",
    "a = ((5**0.5)-1)/2 #Start point of integral\n",
    "b = 1 #End point of integral\n",
    "\n",
    "#Calculations\n",
    "x,w = gaussxw(N)\n",
    "xp = 0.5*(b-a)*x + 0.5*(b+a)\n",
    "wp = 0.5*(b-a)*w\n",
    "\n",
    "s=0.0\n",
    "for k in range(N):\n",
    "    s += wp[k]*f(xp[k])\n",
    "    \n",
    "print(T, energy(T,s))\n",
    "\n",
    "T = 5\n",
    "print(T, energy(T,s))\n",
    "\n",
    "\n",
    "T = 1000\n",
    "print(T, energy(T,s))\n"
   ]
  },
  {
   "cell_type": "markdown",
   "metadata": {},
   "source": [
    "I modified the code from Newman 5.9 and adapted changed the internal integrand and outside multiplier. I am unsure of how accurate the answer is, given the semi-random value chosen for T (setting to approximately 0 degrees Celsius)."
   ]
  },
  {
   "cell_type": "markdown",
   "metadata": {},
   "source": [
    "### Part c"
   ]
  },
  {
   "cell_type": "code",
   "execution_count": 51,
   "metadata": {},
   "outputs": [
    {
     "name": "stdout",
     "output_type": "stream",
     "text": [
      "1.41813791224e-09\n"
     ]
    }
   ],
   "source": [
    "T = 1000\n",
    "W = energy (T,s)\n",
    "\n",
    "boltzmann = W/(T**4)\n",
    "print(boltzmann)"
   ]
  },
  {
   "cell_type": "markdown",
   "metadata": {},
   "source": [
    "The result I got here was not quite accurate (off by a magnitude of 10). This may be due to the units used in one of the constants, or the number of points specified."
   ]
  },
  {
   "cell_type": "markdown",
   "metadata": {},
   "source": [
    "# Newman 5.19 - Diffraction Gratings"
   ]
  },
  {
   "cell_type": "markdown",
   "metadata": {},
   "source": [
    "### Part a\n",
    "If we assume that the function must have zeroes at certain points, then we can also assume that there are discrete u's that result in these zeroes. By solving the equation for u in terms of \\alpha, it is revealed that u = \\pi / \\alpha."
   ]
  },
  {
   "cell_type": "markdown",
   "metadata": {},
   "source": [
    "### Part b"
   ]
  },
  {
   "cell_type": "code",
   "execution_count": 31,
   "metadata": {
    "collapsed": true
   },
   "outputs": [],
   "source": [
    "import math\n",
    "import cmath\n",
    "from scipy import integrate\n",
    "import numpy as np\n",
    "\n",
    "#Function definitions\n",
    "def q(u):\n",
    "    '''Defines the transmission function\n",
    "    u: the position along the grating\n",
    "    '''\n",
    "    \n",
    "    return math.sin((math.pi/(20*10**-6))*u)**2"
   ]
  },
  {
   "cell_type": "markdown",
   "metadata": {},
   "source": [
    "### Part c"
   ]
  },
  {
   "cell_type": "code",
   "execution_count": 52,
   "metadata": {},
   "outputs": [
    {
     "name": "stderr",
     "output_type": "stream",
     "text": [
      "C:\\Users\\Aleksander\\Anaconda3\\lib\\site-packages\\ipykernel_launcher.py:15: DeprecationWarning: object of type <class 'float'> cannot be safely interpreted as an integer.\n",
      "  from ipykernel import kernelapp as app\n",
      "C:\\Users\\Aleksander\\Anaconda3\\lib\\site-packages\\numpy\\core\\numeric.py:531: ComplexWarning: Casting complex values to real discards the imaginary part\n",
      "  return array(a, dtype, copy=False, order=order)\n"
     ]
    },
    {
     "data": {
      "image/png": "[encoded data removed]",
      "text/plain": [
       "<matplotlib.figure.Figure at 0x27ef13b6fd0>"
      ]
     },
     "metadata": {},
     "output_type": "display_data"
    }
   ],
   "source": [
    "import matplotlib.pylab as plt\n",
    "%matplotlib inline\n",
    "\n",
    "#Function Definition\n",
    "def theta (x, u):\n",
    "    return 2*math.pi*x*u/((100*10**-6)*1)\n",
    "\n",
    "# Variable and Constant Declaration\n",
    "screen = 0.1 # Screen length in m\n",
    "grating = 200*10**-6 # Grating width in m\n",
    "slit = 20*10**-6 # Slit width\n",
    "number = grating/slit # Number of slits\n",
    "N = 500 #Number of runs\n",
    "x = np.linspace (-screen/2, screen/2, N)\n",
    "u = np.linspace (-grating/2, grating/2, number)\n",
    "\n",
    "\n",
    "Pattern = []\n",
    "\n",
    "# Function runs\n",
    "for i in range (len(x)):\n",
    "    Intensity = []\n",
    "    for j in range (len(u)):\n",
    "        Intensity.append(q(u[j])*(math.cos(theta(x[i],u[j]))+cmath.sqrt(-1)*math.sin(theta(x[i],u[j]))))\n",
    "    Pattern.append(integrate.simps(Intensity))\n",
    "\n",
    "plt.plot(x,Pattern, label = \"Intensity Pattern\")\n",
    "plt.show()"
   ]
  },
  {
   "cell_type": "markdown",
   "metadata": {
    "collapsed": true
   },
   "source": [
    "The above appears to be the envelope of the overall equation. Unfortunately, for reasons I was unable to decipher even with cross-comparison due to the density of information, I was unable to come up with satisfactory equations and models. I recognize that the above models are flawed, and will be looking back over them to try and ascertain why they failed."
   ]
  },
  {
   "cell_type": "code",
   "execution_count": null,
   "metadata": {
    "collapsed": true
   },
   "outputs": [],
   "source": []
  }
 ],
 "metadata": {
  "kernelspec": {
   "display_name": "Python 3",
   "language": "python",
   "name": "python3"
  },
  "language_info": {
   "codemirror_mode": {
    "name": "ipython",
    "version": 3
   },
   "file_extension": ".py",
   "mimetype": "text/x-python",
   "name": "python",
   "nbconvert_exporter": "python",
   "pygments_lexer": "ipython3",
   "version": "3.6.3"
  }
 },
 "nbformat": 4,
 "nbformat_minor": 1
}
