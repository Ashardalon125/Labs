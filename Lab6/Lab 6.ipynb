{
 "cells": [
  {
   "cell_type": "markdown",
   "metadata": {},
   "source": [
    "# Newman 5.12 - The Stefan-Botzmann Constant"
   ]
  },
  {
   "cell_type": "markdown",
   "metadata": {},
   "source": [
    "If we equate any potential frequency to a spectrum from 0 to infinity (forbidding \"negative\" frequencies), then each frequency adds to the total amount of energy radiated off the black body per unit area. Additionally, because the denominator contains an exponential with a large number of constant exponents, those portions can be \"split\" off and moved outside of the frequency dependent portion.\n",
    "\n",
    "We also convert the limits with a change of variables to allow the computer to do the calculation."
   ]
  },
  {
   "cell_type": "code",
   "execution_count": 1,
   "metadata": {
    "collapsed": true
   },
   "outputs": [],
   "source": [
    "def gaussxw(N,a=None,b=None,verbose=False):\n",
    "    '''calculate integration points and weights for Gaussian quadrature\n",
    "\n",
    "    ARGUMENTS:\n",
    "    N - order of the Gaussian approximation \n",
    "    a - lower limit of integral, default a=None (limit = -1)\n",
    "    b - upper limit of integral, default b=None (limit =  1)\n",
    "    \n",
    "    RETURNS\n",
    "    x,w = integration points x and integration weights w such that \n",
    "          sum_i w[i]*f(x[i]) is the Nth-order\n",
    "          Gaussian approximation to the integral int_{-a}^b f(x) dx\n",
    "          \n",
    "    USAGE EXAMPLES:\n",
    "    def f1(x):\n",
    "        return x*(x-1)\n",
    "\n",
    "    N=2\n",
    "    a=0\n",
    "    b=1\n",
    "\n",
    "    #return the correct weights with a single call\n",
    "    xp,wp = gaussxw(N,a=a,b=b)\n",
    "    \n",
    "    #return the weights that may be scaled for different limits (a,b)\n",
    "    x,w = gaussxw(N)\n",
    "    xp = 0.5*(b-a)*x + 0.5*(b+a)\n",
    "    wp = 0.5*(b-a)*w\n",
    "    \n",
    "    '''\n",
    "    \n",
    "    if verbose==True:\n",
    "        print(\"The limits of the function are: \",a,b)\n",
    "        \n",
    "    # Initial approximation to roots of the Legendre polynomial\n",
    "    a1 = np.linspace(3,4*N-1,N)/(4*N+2)\n",
    "    x = np.cos(np.pi*a1+1/(8*N*N*np.tan(a1)))\n",
    "\n",
    "    # Find roots using Newton's method\n",
    "    epsilon = 1e-15\n",
    "    delta = 1.0\n",
    "    while delta>epsilon:\n",
    "        p0 = np.ones(N,float)\n",
    "        p1 = np.copy(x)\n",
    "        for k in range(1,N):\n",
    "            p0,p1 = p1,((2*k+1)*x*p1-k*p0)/(k+1)\n",
    "        dp = (N+1)*(p0-x*p1)/(1-x*x)\n",
    "        dx = p1/dp\n",
    "        x -= dx\n",
    "        delta = max(abs(dx))\n",
    "\n",
    "    # Calculate the weights\n",
    "    w = 2*(N+1)*(N+1)/(N*N*(1-x*x)*dp*dp)\n",
    "    \n",
    "    if a==None and b==None:\n",
    "        #generally if you are recalculating the same integral use this method\n",
    "        return x,w\n",
    "    else:\n",
    "        #if you are only doing a single integral, use this method.\n",
    "        return 0.5*(b-a)*x + 0.5*(b+a), 0.5*(b-a)*w"
   ]
  },
  {
   "cell_type": "code",
   "execution_count": 2,
   "metadata": {},
   "outputs": [
    {
     "name": "stdout",
     "output_type": "stream",
     "text": [
      "11.6102388387\n"
     ]
    }
   ],
   "source": [
    "import math\n",
    "import numpy as np\n",
    "\n",
    "#Function Definitions\n",
    "def f(x):\n",
    "    '''The converted integrand for the Stefan-Boltzmann constant calculation\n",
    "    x: the inputted frequency\n",
    "    \n",
    "    thermal: the amount of thermal energy radiated off'''\n",
    "    \n",
    "    thermal = ((x**4)*math.exp(x)) / ((math.exp(x)-1)**2)\n",
    "    return thermal\n",
    "\n",
    "# Constant and Variable Declaration\n",
    "k_b = 1.3806*10**(-23) #Botlzmann Constant\n",
    "h_bar = 1.055*10**(-34) #H-bar in J*s\n",
    "c = 3*10**8 #Speed of light\n",
    "T = 273 #Temperature in Kelvin (presumed)\n",
    "N = 500 #Number of points to be sampled\n",
    "a = ((5**0.5)-1)/2 #Start point of integral\n",
    "b = 1 #End point of integral\n",
    "\n",
    "#Calculations\n",
    "x,w = gaussxw(N)\n",
    "xp = 0.5*(b-a)*x + 0.5*(b+a)\n",
    "wp = 0.5*(b-a)*w\n",
    "\n",
    "s=0.0\n",
    "for k in range(N):\n",
    "    s += wp[k]*f(xp[k])\n",
    "    \n",
    "energy = s*(k_b**4)*(T**4)/(4*(math.pi**2)*(c**2)*(h_bar**3))\n",
    "print(energy)"
   ]
  },
  {
   "cell_type": "markdown",
   "metadata": {},
   "source": [
    "I modified the code from Newman 5.9 and adapted changed the internal integrand and outside multiplier. I am unsure of how accurate the answer is, given the semi-random value chosen for T (setting to approximately 0 degrees Celsius)."
   ]
  },
  {
   "cell_type": "markdown",
   "metadata": {},
   "source": [
    "# Newman 5.19 - Diffraction Gratings"
   ]
  },
  {
   "cell_type": "markdown",
   "metadata": {},
   "source": [
    "### Part a\n",
    "If we assume that the function must have zeroes at certain points, then we can also assume that there are discrete u's that result in these zeroes. By solving the equation for u in terms of \\alpha, it is revealed that u = \\pi / \\alpha."
   ]
  },
  {
   "cell_type": "markdown",
   "metadata": {},
   "source": [
    "### Part b"
   ]
  },
  {
   "cell_type": "code",
   "execution_count": 12,
   "metadata": {
    "collapsed": true
   },
   "outputs": [],
   "source": [
    "import math\n",
    "import cmath\n",
    "from scipy import integrate\n",
    "import numpy as np\n",
    "\n",
    "#Function definitions\n",
    "def q(u):\n",
    "    '''Defines the transmission function\n",
    "    u: the position along the grating\n",
    "    '''\n",
    "    \n",
    "    return math.sin((math.pi/(20*10**-6))*u)**2"
   ]
  },
  {
   "cell_type": "markdown",
   "metadata": {},
   "source": [
    "### Part c"
   ]
  },
  {
   "cell_type": "code",
   "execution_count": 28,
   "metadata": {},
   "outputs": [
    {
     "ename": "TypeError",
     "evalue": "'float' object is not callable",
     "output_type": "error",
     "traceback": [
      "\u001b[0;31m---------------------------------------------------------------------------\u001b[0m",
      "\u001b[0;31mTypeError\u001b[0m                                 Traceback (most recent call last)",
      "\u001b[0;32m<ipython-input-28-0dc3abdaea6f>\u001b[0m in \u001b[0;36m<module>\u001b[0;34m()\u001b[0m\n\u001b[1;32m     69\u001b[0m \u001b[1;31m# Function runs\u001b[0m\u001b[1;33m\u001b[0m\u001b[1;33m\u001b[0m\u001b[0m\n\u001b[1;32m     70\u001b[0m \u001b[1;32mfor\u001b[0m \u001b[0mi\u001b[0m \u001b[1;32min\u001b[0m \u001b[0mrange\u001b[0m \u001b[1;33m(\u001b[0m\u001b[0mlen\u001b[0m\u001b[1;33m(\u001b[0m\u001b[0mh\u001b[0m\u001b[1;33m)\u001b[0m\u001b[1;33m)\u001b[0m\u001b[1;33m:\u001b[0m\u001b[1;33m\u001b[0m\u001b[0m\n\u001b[0;32m---> 71\u001b[0;31m     \u001b[0mPattern\u001b[0m\u001b[1;33m.\u001b[0m\u001b[0mappend\u001b[0m\u001b[1;33m(\u001b[0m\u001b[0mmath\u001b[0m\u001b[1;33m.\u001b[0m\u001b[0mfabs\u001b[0m\u001b[1;33m(\u001b[0m\u001b[0mintegrate\u001b[0m\u001b[1;33m(\u001b[0m\u001b[0mq\u001b[0m\u001b[1;33m(\u001b[0m\u001b[0mx\u001b[0m\u001b[1;33m)\u001b[0m \u001b[1;33m*\u001b[0m \u001b[0mEueler_Conversion\u001b[0m\u001b[1;33m(\u001b[0m\u001b[0mangle_coefficient\u001b[0m\u001b[1;33m(\u001b[0m\u001b[0mh\u001b[0m\u001b[1;33m[\u001b[0m\u001b[0mi\u001b[0m\u001b[1;33m]\u001b[0m\u001b[1;33m,\u001b[0m\u001b[0mx\u001b[0m\u001b[1;33m,\u001b[0m\u001b[0mwavelength\u001b[0m\u001b[1;33m,\u001b[0m\u001b[0mfocal\u001b[0m\u001b[1;33m)\u001b[0m\u001b[1;33m)\u001b[0m\u001b[1;33m,\u001b[0m \u001b[1;33m-\u001b[0m\u001b[0mscreen\u001b[0m\u001b[1;33m/\u001b[0m\u001b[1;36m2\u001b[0m\u001b[1;33m,\u001b[0m \u001b[0mscreen\u001b[0m\u001b[1;33m/\u001b[0m\u001b[1;36m2\u001b[0m\u001b[1;33m,\u001b[0m \u001b[0mN\u001b[0m\u001b[1;33m,\u001b[0m \u001b[0morder\u001b[0m\u001b[1;33m)\u001b[0m\u001b[1;33m)\u001b[0m\u001b[1;33m**\u001b[0m\u001b[1;36m2\u001b[0m\u001b[1;33m)\u001b[0m\u001b[1;33m\u001b[0m\u001b[0m\n\u001b[0m\u001b[1;32m     72\u001b[0m \u001b[1;33m\u001b[0m\u001b[0m\n\u001b[1;32m     73\u001b[0m \u001b[1;33m\u001b[0m\u001b[0m\n",
      "\u001b[0;32m<ipython-input-28-0dc3abdaea6f>\u001b[0m in \u001b[0;36mintegrate\u001b[0;34m(f, a, b, N, order)\u001b[0m\n\u001b[1;32m     53\u001b[0m     \u001b[0mi\u001b[0m\u001b[1;33m=\u001b[0m\u001b[0ms\u001b[0m\u001b[1;33m=\u001b[0m\u001b[1;36m0\u001b[0m\u001b[1;33m\u001b[0m\u001b[0m\n\u001b[1;32m     54\u001b[0m     \u001b[1;32mfor\u001b[0m \u001b[0mi\u001b[0m \u001b[1;32min\u001b[0m \u001b[0mrange\u001b[0m\u001b[1;33m(\u001b[0m\u001b[0mN\u001b[0m\u001b[1;33m)\u001b[0m\u001b[1;33m:\u001b[0m\u001b[1;33m\u001b[0m\u001b[0m\n\u001b[0;32m---> 55\u001b[0;31m         \u001b[0ms\u001b[0m\u001b[1;33m+=\u001b[0m \u001b[0mcoefficientDeterminatorV2\u001b[0m\u001b[1;33m(\u001b[0m\u001b[0mi\u001b[0m\u001b[1;33m,\u001b[0m\u001b[0mN\u001b[0m\u001b[1;33m,\u001b[0m\u001b[0morder\u001b[0m\u001b[1;33m)\u001b[0m \u001b[1;33m*\u001b[0m \u001b[0mf\u001b[0m\u001b[1;33m(\u001b[0m\u001b[0ma\u001b[0m\u001b[1;33m+\u001b[0m\u001b[0mi\u001b[0m\u001b[1;33m*\u001b[0m\u001b[0mh\u001b[0m\u001b[1;33m)\u001b[0m \u001b[1;33m*\u001b[0m \u001b[0mh\u001b[0m\u001b[1;33m\u001b[0m\u001b[0m\n\u001b[0m\u001b[1;32m     56\u001b[0m     \u001b[1;32mreturn\u001b[0m \u001b[0ms\u001b[0m\u001b[1;33m\u001b[0m\u001b[0m\n\u001b[1;32m     57\u001b[0m \u001b[1;33m\u001b[0m\u001b[0m\n",
      "\u001b[0;31mTypeError\u001b[0m: 'float' object is not callable"
     ]
    }
   ],
   "source": [
    "import matplotlib.pylab as plt\n",
    "%matplotlib inline\n",
    "\n",
    "# Function Definition\n",
    "def angle_coefficient (h, x, wavelength, focal):\n",
    "    return 2*math.pi*h*x/(wavelength*focal)\n",
    "\n",
    "def Eueler_Conversion (coefficient):\n",
    "    return float(math.cos(coefficient)+float(math.sin(coefficient)))\n",
    "\n",
    "def coefficientDeterminatorV2(step,max,order):\n",
    "    \"\"\"Determines the coefficient for up to quartic integrations\"\"\"\n",
    "    \"\"\"Coefficient Determinator 2: Electric Boogaloo\"\"\"\n",
    "    if (order==1):\n",
    "        denom=0.5\n",
    "        if (step==0 or step==max-1):\n",
    "            num=1\n",
    "        else:\n",
    "            num=2\n",
    "    elif(order==2):\n",
    "        denom=3\n",
    "        if(step==0 or step==max-1):\n",
    "            num=1\n",
    "        elif (step%2==0):\n",
    "            num=2\n",
    "        else:\n",
    "            num=4\n",
    "    elif(order==3):\n",
    "        denom=8\n",
    "        if(step==0 or step==max-1):\n",
    "            num=3\n",
    "        elif(step%2==0):\n",
    "            num=9\n",
    "        else:\n",
    "            num=6\n",
    "    elif(order==4):\n",
    "        denom=15\n",
    "        if(step==0 or step==max-1):\n",
    "            num=14/3\n",
    "        elif(step%2==0):\n",
    "            num=64/3\n",
    "        elif(step%4==1):\n",
    "            num=28/3\n",
    "        else:\n",
    "            num=8\n",
    "    else:\n",
    "        print(\"Please enter an order between 0 and 4\")\n",
    "    return num/denom\n",
    "\n",
    "def integrate (f,a,b,N,order):\n",
    "    \"\"\"Integrates a function given the function, its limits, the number of steps desired, and the order of fit desired\"\"\"\n",
    "    h=(b-a)/N\n",
    "    i=s=0\n",
    "    for i in range(N):\n",
    "        s+= coefficientDeterminatorV2(i,N,order) * f(a+i*h) * h\n",
    "    return s\n",
    "\n",
    "\n",
    "# Variable and Constant Declaration\n",
    "wavelength = 500*10**-9 # Wavelength in m\n",
    "focal = 1 # Focal length in m\n",
    "screen = 0.1 # Screen length in m\n",
    "grating = 200*10**-6 # Grating width in m\n",
    "N = 50 #Number of runs\n",
    "h = np.arange (-screen, screen, N)\n",
    "order =2\n",
    "Pattern = []\n",
    "\n",
    "# Function runs\n",
    "for i in range (len(h)):\n",
    "    Pattern.append(math.fabs(integrate(q(x) * Eueler_Conversion(angle_coefficient(h[i],x,wavelength,focal)), -screen/2, screen/2, N, order))**2)\n",
    "\n",
    "\n",
    "plt.plot(h,Pattern, label = \"Intensity Pattern\")\n",
    "plt.show()"
   ]
  },
  {
   "cell_type": "code",
   "execution_count": null,
   "metadata": {
    "collapsed": true
   },
   "outputs": [],
   "source": []
  }
 ],
 "metadata": {
  "kernelspec": {
   "display_name": "Python 3",
   "language": "python",
   "name": "python3"
  },
  "language_info": {
   "codemirror_mode": {
    "name": "ipython",
    "version": 3
   },
   "file_extension": ".py",
   "mimetype": "text/x-python",
   "name": "python",
   "nbconvert_exporter": "python",
   "pygments_lexer": "ipython3",
   "version": "3.4.5"
  }
 },
 "nbformat": 4,
 "nbformat_minor": 1
}
