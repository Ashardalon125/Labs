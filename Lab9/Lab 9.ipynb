{
 "cells": [
  {
   "cell_type": "markdown",
   "metadata": {},
   "source": [
    "## Lab Exercises \n",
    "\n",
    "* [CUT] Newman 8.2 - The Lotka-Volterra equations \n",
    "* [CUT] Newman 8.3 - The Lorenz equations\n",
    "* Newman 8.4 - The non-linear pendulum\n",
    "* Newman 8.5 - The driven pendulum\n",
    "\n",
    "*The cuts are chosen so we don't need to work with coupled equations yet.  Instead we will focus on the pendulum problem.  Keep those additional problems in mind for a Final Project.*\n",
    "\n",
    "Do Newman's Exercises 8.4 and 8.5 in a lab format.  This means your work needs to begin with a introduction to the problem.  Explain the basic physics as in Example 8.6 (choose your own words).  Explain the graphs clearly.\n",
    "\n",
    "Do these in a separate notebook so it can be graded separately from Weekly Session 9.\n",
    "\n",
    "In order to solve Newman 8.4-8.5, you will need to solve a system of coupled ODE's one way, or another.  Here is my code to do so"
   ]
  },
  {
   "cell_type": "code",
   "execution_count": 4,
   "metadata": {
    "collapsed": true
   },
   "outputs": [],
   "source": [
    "import numpy as np\n",
    "import matplotlib.pyplot as plt\n",
    "import matplotlib.ticker as ticker\n",
    "%matplotlib inline"
   ]
  },
  {
   "cell_type": "code",
   "execution_count": 1,
   "metadata": {
    "collapsed": true
   },
   "outputs": [],
   "source": [
    "def solve_coupled(f,n,r0,interval,steps,*args,order=1):\n",
    "    \"\"\" Solve system of coupled ODEs by Euler or Runge-Kutta methods,\n",
    "    with fixed number of steps.\n",
    "\n",
    "    f: vector function giving ODE as r'=f(t,r)\n",
    "       Should return numpy array, so array arithmetic works.\n",
    "       Note opposite argument order to Newman.\n",
    "       We put independent variable first.\n",
    "    n: number of spatial dimensions (i.e., dependent variables)\n",
    "    r0: vector initial value\n",
    "    interval: tuple region (a,b) on which to solve ODE\n",
    "    steps: number of steps\n",
    "    order: order of solution method (1 for Euler, 2 or 4 for Runge-Kutta) \n",
    "    \n",
    "    Returns points (t,r1,...,rn), as (steps+1)x(n+1) numpy array.\n",
    "    \"\"\"\n",
    "\n",
    "    # set up solution mesh\n",
    "    # points will be indexed 0..steps\n",
    "    (a,b) = interval  # endpoints\n",
    "    h = (b-a)/steps  # step size\n",
    "    points = np.zeros((steps+1,n+1))\n",
    "\n",
    "    # set up initial point\n",
    "    t = a    # current point t value\n",
    "    r = r0   # current point r value\n",
    "    points[0,0] = t\n",
    "    points[0,1:] = r\n",
    "    ## # alternatively:\n",
    "    ## for i in range(n):\n",
    "    ##     points[0,i+1] = r[i]\n",
    "\n",
    "    for i in range(1,steps+1):\n",
    "\n",
    "        # evaluate new point\n",
    "        t_new = t + h\n",
    "        if (order == 1):\n",
    "            # Euler\n",
    "            r_new = r + h * f(t,r,*args)\n",
    "        elif (order == 2):\n",
    "            # second-order Runge-Kutta\n",
    "            # Newman (8.13)\n",
    "            k1 = h * f(t,r,*args)\n",
    "            k2 = h * f(t+1/2*h,r+1/2*k1,*args)\n",
    "            r_new = r + k2\n",
    "        elif (order == 4):\n",
    "            # fourth-order Runge-Kutta\n",
    "            # Newman (8.17)\n",
    "            k1 = h * f(t,r,*args)\n",
    "            k2 = h * f(t+1/2*h,r+1/2*k1,*args)\n",
    "            k3 = h * f(t+1/2*h,r+1/2*k2,*args)\n",
    "            k4 = h * f(t+h,r+k3,*args)\n",
    "            r_new = r + 1/6*(k1+2*k2+2*k3+k4)\n",
    "\n",
    "        # save new point\n",
    "        (t,r) = (t_new,r_new)\n",
    "        points[i,0] = t\n",
    "        points[i,1:] = r\n",
    "\n",
    "    return points\n",
    "\n"
   ]
  },
  {
   "cell_type": "code",
   "execution_count": 2,
   "metadata": {
    "collapsed": true
   },
   "outputs": [],
   "source": [
    "################################################################\n",
    "# repeat as 1-dim vector to test vector machinery\n",
    "################################################################\n",
    "def f_Newman_8_7_vec(t,r):\n",
    "    (x,) = r\n",
    "    r_prime = [-x**3+np.sin(t)]\n",
    "    #print (\"t {}, x {}, rp {}\".format(t,x,r_prime))\n",
    "    return np.array(r_prime)"
   ]
  },
  {
   "cell_type": "code",
   "execution_count": 5,
   "metadata": {},
   "outputs": [
    {
     "data": {
      "image/png": "[encoded data removed]",
      "text/plain": [
       "<matplotlib.figure.Figure at 0x7bd5dd8>"
      ]
     },
     "metadata": {},
     "output_type": "display_data"
    }
   ],
   "source": [
    "interval = (0.,10.)\n",
    "r0 = [0.]\n",
    "\n",
    "#set up plot\n",
    "#plot the step size vs. error\n",
    "plt.figure(figsize=(8, 5))\n",
    "ax = plt.subplot(111)\n",
    "\n",
    "#more efficient way to do this\n",
    "i=0\n",
    "        \n",
    "ax.set_xlabel(\"$x$\")\n",
    "ax.set_ylabel(\"$y$\")\n",
    "ax.set_xlim(*interval)\n",
    "ax.set_ylim(-1.5,1.5)\n",
    "\n",
    "\n",
    "for order in [1,2,4]:\n",
    "    # obtain solutions with different step sizes\n",
    "    for steps in [20,1000]:  # Newman used [10,20,50,100]\n",
    "        \n",
    "        results = []    # to hold results with different step sizes\n",
    "\n",
    "        solution = solve_coupled(f_Newman_8_7_vec,1,r0,interval,steps,order=order)\n",
    "        results.append(solution)\n",
    "\n",
    "        # plot results\n",
    "\n",
    "        if (order == 1):\n",
    "            label = \"Euler method\"\n",
    "        elif (order == 2):\n",
    "            label = \"Runge-Kutta method (2nd order)\"\n",
    "        elif (order == 4):\n",
    "            label = \"Runge-Kutta method (4th order)\"\n",
    "            \n",
    "        if steps == 20:\n",
    "            style='o'\n",
    "        else:\n",
    "            style='-'\n",
    "\n",
    "        label = label + \" steps=%d\"%(steps)\n",
    "        #for solution in results:\n",
    "        plt.plot(solution[:,0],solution[:,1],style,label=label)\n",
    "            \n",
    "plt.legend(bbox_to_anchor=(1.05, 1.05))\n",
    "plt.show()\n",
    "\n",
    "\n",
    "            "
   ]
  },
  {
   "cell_type": "markdown",
   "metadata": {},
   "source": [
    "# Exercise 8.4"
   ]
  },
  {
   "cell_type": "markdown",
   "metadata": {},
   "source": [
    "## Introduction"
   ]
  },
  {
   "cell_type": "markdown",
   "metadata": {},
   "source": [
    "Pendulums are a standard physics problem, but approximating them as a linear differential equation is ineffective at describing the behaviour of a real pendulum, especially at large angles (hence the \"Small Angle Approximation). With a simple pendulum, to total of forces on it can be written as:\n",
    "$$ml\\frac{d^{2}\\theta }{dt^{2}} = - mg \\sin(\\theta)$$\n",
    "When the masses are negated, thus removing the dependency on mass, the following solution is obtained:\n",
    "$$l\\frac{d^{2}\\theta }{dt^{2}} = - g \\sin(\\theta)$$\n",
    "From these, the derivatives with respect to time can be taken to show:\n",
    "$$\\frac{d\\theta}{dt} = \\omega$$\n",
    "$$\\frac{d\\omega}{dt} = -\\frac{g}{l}\\sin(\\theta)$$\n",
    "These form two simultaneous first order equations, allowing them to be solved for by the Runge-Kutta Method."
   ]
  },
  {
   "cell_type": "markdown",
   "metadata": {},
   "source": [
    "### Part a)"
   ]
  },
  {
   "cell_type": "code",
   "execution_count": 11,
   "metadata": {},
   "outputs": [
    {
     "ename": "TypeError",
     "evalue": "'int' object is not subscriptable",
     "output_type": "error",
     "traceback": [
      "\u001b[1;31m---------------------------------------------------------------------------\u001b[0m",
      "\u001b[1;31mTypeError\u001b[0m                                 Traceback (most recent call last)",
      "\u001b[1;32m<ipython-input-11-222ed270320f>\u001b[0m in \u001b[0;36m<module>\u001b[1;34m()\u001b[0m\n\u001b[0;32m     16\u001b[0m \u001b[0msteps\u001b[0m \u001b[1;33m=\u001b[0m \u001b[1;36m1000\u001b[0m \u001b[1;31m# Number of steps\u001b[0m\u001b[1;33m\u001b[0m\u001b[0m\n\u001b[0;32m     17\u001b[0m \u001b[1;33m\u001b[0m\u001b[0m\n\u001b[1;32m---> 18\u001b[1;33m \u001b[0mprint\u001b[0m\u001b[1;33m(\u001b[0m\u001b[0msolve_coupled\u001b[0m\u001b[1;33m(\u001b[0m\u001b[0mf\u001b[0m\u001b[1;33m,\u001b[0m\u001b[0mn\u001b[0m\u001b[1;33m,\u001b[0m\u001b[0mr0\u001b[0m\u001b[1;33m,\u001b[0m\u001b[1;33m(\u001b[0m\u001b[0mt1\u001b[0m\u001b[1;33m,\u001b[0m\u001b[0mt2\u001b[0m\u001b[1;33m)\u001b[0m\u001b[1;33m,\u001b[0m\u001b[0msteps\u001b[0m\u001b[1;33m,\u001b[0m \u001b[0morder\u001b[0m\u001b[1;33m=\u001b[0m\u001b[1;36m4\u001b[0m\u001b[1;33m)\u001b[0m\u001b[1;33m)\u001b[0m\u001b[1;33m\u001b[0m\u001b[0m\n\u001b[0m",
      "\u001b[1;32m<ipython-input-1-c03089fc9df3>\u001b[0m in \u001b[0;36msolve_coupled\u001b[1;34m(f, n, r0, interval, steps, order, *args)\u001b[0m\n\u001b[0;32m     47\u001b[0m             \u001b[1;31m# fourth-order Runge-Kutta\u001b[0m\u001b[1;33m\u001b[0m\u001b[1;33m\u001b[0m\u001b[0m\n\u001b[0;32m     48\u001b[0m             \u001b[1;31m# Newman (8.17)\u001b[0m\u001b[1;33m\u001b[0m\u001b[1;33m\u001b[0m\u001b[0m\n\u001b[1;32m---> 49\u001b[1;33m             \u001b[0mk1\u001b[0m \u001b[1;33m=\u001b[0m \u001b[0mh\u001b[0m \u001b[1;33m*\u001b[0m \u001b[0mf\u001b[0m\u001b[1;33m(\u001b[0m\u001b[0mt\u001b[0m\u001b[1;33m,\u001b[0m\u001b[0mr\u001b[0m\u001b[1;33m,\u001b[0m\u001b[1;33m*\u001b[0m\u001b[0margs\u001b[0m\u001b[1;33m)\u001b[0m\u001b[1;33m\u001b[0m\u001b[0m\n\u001b[0m\u001b[0;32m     50\u001b[0m             \u001b[0mk2\u001b[0m \u001b[1;33m=\u001b[0m \u001b[0mh\u001b[0m \u001b[1;33m*\u001b[0m \u001b[0mf\u001b[0m\u001b[1;33m(\u001b[0m\u001b[0mt\u001b[0m\u001b[1;33m+\u001b[0m\u001b[1;36m1\u001b[0m\u001b[1;33m/\u001b[0m\u001b[1;36m2\u001b[0m\u001b[1;33m*\u001b[0m\u001b[0mh\u001b[0m\u001b[1;33m,\u001b[0m\u001b[0mr\u001b[0m\u001b[1;33m+\u001b[0m\u001b[1;36m1\u001b[0m\u001b[1;33m/\u001b[0m\u001b[1;36m2\u001b[0m\u001b[1;33m*\u001b[0m\u001b[0mk1\u001b[0m\u001b[1;33m,\u001b[0m\u001b[1;33m*\u001b[0m\u001b[0margs\u001b[0m\u001b[1;33m)\u001b[0m\u001b[1;33m\u001b[0m\u001b[0m\n\u001b[0;32m     51\u001b[0m             \u001b[0mk3\u001b[0m \u001b[1;33m=\u001b[0m \u001b[0mh\u001b[0m \u001b[1;33m*\u001b[0m \u001b[0mf\u001b[0m\u001b[1;33m(\u001b[0m\u001b[0mt\u001b[0m\u001b[1;33m+\u001b[0m\u001b[1;36m1\u001b[0m\u001b[1;33m/\u001b[0m\u001b[1;36m2\u001b[0m\u001b[1;33m*\u001b[0m\u001b[0mh\u001b[0m\u001b[1;33m,\u001b[0m\u001b[0mr\u001b[0m\u001b[1;33m+\u001b[0m\u001b[1;36m1\u001b[0m\u001b[1;33m/\u001b[0m\u001b[1;36m2\u001b[0m\u001b[1;33m*\u001b[0m\u001b[0mk2\u001b[0m\u001b[1;33m,\u001b[0m\u001b[1;33m*\u001b[0m\u001b[0margs\u001b[0m\u001b[1;33m)\u001b[0m\u001b[1;33m\u001b[0m\u001b[0m\n",
      "\u001b[1;32m<ipython-input-11-222ed270320f>\u001b[0m in \u001b[0;36mf\u001b[1;34m(t, r)\u001b[0m\n\u001b[0;32m      3\u001b[0m \u001b[1;33m\u001b[0m\u001b[0m\n\u001b[0;32m      4\u001b[0m \u001b[1;32mdef\u001b[0m \u001b[0mf\u001b[0m\u001b[1;33m(\u001b[0m\u001b[0mt\u001b[0m\u001b[1;33m,\u001b[0m\u001b[0mr\u001b[0m\u001b[1;33m)\u001b[0m\u001b[1;33m:\u001b[0m\u001b[1;33m\u001b[0m\u001b[0m\n\u001b[1;32m----> 5\u001b[1;33m     \u001b[0mtheta\u001b[0m \u001b[1;33m=\u001b[0m \u001b[0mr\u001b[0m\u001b[1;33m[\u001b[0m\u001b[1;36m0\u001b[0m\u001b[1;33m]\u001b[0m\u001b[1;33m\u001b[0m\u001b[0m\n\u001b[0m\u001b[0;32m      6\u001b[0m     \u001b[0momega\u001b[0m \u001b[1;33m=\u001b[0m \u001b[0mr\u001b[0m\u001b[1;33m[\u001b[0m\u001b[1;36m1\u001b[0m\u001b[1;33m]\u001b[0m\u001b[1;33m\u001b[0m\u001b[0m\n\u001b[0;32m      7\u001b[0m     \u001b[0mftheta\u001b[0m \u001b[1;33m=\u001b[0m \u001b[0momega\u001b[0m\u001b[1;33m\u001b[0m\u001b[0m\n",
      "\u001b[1;31mTypeError\u001b[0m: 'int' object is not subscriptable"
     ]
    }
   ],
   "source": [
    "g = 9.81\n",
    "l = 0.1\n",
    "\n",
    "def f(t,r):\n",
    "    theta = r[0]\n",
    "    omega = r[1]\n",
    "    ftheta = omega\n",
    "    fomega = -(g/l)*sin(theta)\n",
    "    return array([ftheta,fomega],float)\n",
    "\n",
    "# Constant Block\n",
    "r0 = 179 # Initial angle before release\n",
    "n = 2 # Number of dependent variables\n",
    "t1 = 0 # Initial time\n",
    "t2 = 10 # Final time\n",
    "steps = 1000 # Number of steps\n",
    "\n",
    "print(solve_coupled(f,n,r0,(t1,t2),steps, order=4))"
   ]
  },
  {
   "cell_type": "code",
   "execution_count": null,
   "metadata": {
    "collapsed": true
   },
   "outputs": [],
   "source": []
  }
 ],
 "metadata": {
  "kernelspec": {
   "display_name": "Python 3",
   "language": "python",
   "name": "python3"
  },
  "language_info": {
   "codemirror_mode": {
    "name": "ipython",
    "version": 3
   },
   "file_extension": ".py",
   "mimetype": "text/x-python",
   "name": "python",
   "nbconvert_exporter": "python",
   "pygments_lexer": "ipython3",
   "version": "3.4.5"
  }
 },
 "nbformat": 4,
 "nbformat_minor": 1
}
